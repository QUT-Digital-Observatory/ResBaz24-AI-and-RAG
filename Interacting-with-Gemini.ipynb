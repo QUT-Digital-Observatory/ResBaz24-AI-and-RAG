{
 "cells": [
  {
   "cell_type": "markdown",
   "id": "9aee620dd3cec78",
   "metadata": {},
   "source": [
    "# Interacting with AI"
   ]
  },
  {
   "cell_type": "markdown",
   "id": "785eadafbd04310f",
   "metadata": {},
   "source": [
    "### Getting started\n",
    "\n",
    "This workbook requires a Google Gemini API key:\n",
    "- Google provide Gemini with a free tier available to anyone with a Google account.\n",
    "- To get your own key visit [aistudio.google.com/app/apikey](https://aistudio.google.com/app/apikey) and click \"Create API key\"\n",
    "- This API key needs to be saved to your project's .env file. Open your .env and add *GEMINI_API_KEY=\"MY-API-KEY-HERE\"*\n",
    "\n",
    "This workbook also requires the Gemini python module, google-generativeai"
   ]
  },
  {
   "cell_type": "markdown",
   "id": "e0422074e1524491",
   "metadata": {},
   "source": [
    "#### Setting up Gemini"
   ]
  },
  {
   "cell_type": "code",
   "execution_count": 2,
   "id": "79f0608c695b7b25",
   "metadata": {
    "ExecuteTime": {
     "end_time": "2024-11-04T12:07:15.779420Z",
     "start_time": "2024-11-04T12:07:15.771220Z"
    }
   },
   "outputs": [],
   "source": [
    "import os\n",
    "\n",
    "import google.generativeai as genai\n",
    "from dotenv import load_dotenv"
   ]
  },
  {
   "cell_type": "code",
   "execution_count": 5,
   "id": "initial_id",
   "metadata": {
    "ExecuteTime": {
     "end_time": "2024-11-04T12:08:58.451451Z",
     "start_time": "2024-11-04T12:08:58.448588Z"
    },
    "collapsed": true
   },
   "outputs": [],
   "source": [
    "load_dotenv()\n",
    "genai.configure(api_key=os.environ[\"GEMINI_API_KEY\"])\n",
    "model = genai.GenerativeModel('gemini-1.5-flash')"
   ]
  },
  {
   "cell_type": "markdown",
   "id": "66f5f3217846cfc9",
   "metadata": {},
   "source": [
    "#### Running basic queries"
   ]
  },
  {
   "cell_type": "code",
   "execution_count": 16,
   "id": "e5008cecec9fb5c9",
   "metadata": {
    "ExecuteTime": {
     "end_time": "2024-11-04T12:10:46.864939Z",
     "start_time": "2024-11-04T12:10:45.452722Z"
    }
   },
   "outputs": [],
   "source": [
    "response = model.generate_content(\"What are the core guiding principles of medical testing on children according to\")"
   ]
  },
  {
   "cell_type": "code",
   "execution_count": 17,
   "id": "b50574f335918fdb",
   "metadata": {
    "ExecuteTime": {
     "end_time": "2024-11-04T12:10:46.893741Z",
     "start_time": "2024-11-04T12:10:46.887618Z"
    }
   },
   "outputs": [
    {
     "name": "stdout",
     "output_type": "stream",
     "text": [
      "Please provide me with the full context of your question. I need to know which specific group or organization you are referring to when you ask about \"core guiding principles of medical testing on children according to...\".\n",
      "\n",
      "For example, are you asking about:\n",
      "\n",
      "* **The principles outlined by a specific regulatory body?** (e.g., FDA, EMA)\n",
      "* **The ethical guidelines established by a medical association?** (e.g., AMA, BMA)\n",
      "* **The principles defined in a specific legal framework?** (e.g., the Nuremberg Code, the Declaration of Helsinki)\n",
      "* **The principles promoted by a particular research organization?** (e.g., NIH, WHO)\n",
      "\n",
      "Once you provide me with the specific context, I can provide you with a more accurate and relevant answer. \n",
      "\n"
     ]
    }
   ],
   "source": [
    "print(response.text)"
   ]
  },
  {
   "cell_type": "markdown",
   "id": "403c43d0c21ed30f",
   "metadata": {},
   "source": []
  }
 ],
 "metadata": {
  "kernelspec": {
   "display_name": "Python 3 (ipykernel)",
   "language": "python",
   "name": "python3"
  },
  "language_info": {
   "codemirror_mode": {
    "name": "ipython",
    "version": 3
   },
   "file_extension": ".py",
   "mimetype": "text/x-python",
   "name": "python",
   "nbconvert_exporter": "python",
   "pygments_lexer": "ipython3",
   "version": "3.11.5"
  }
 },
 "nbformat": 4,
 "nbformat_minor": 5
}
