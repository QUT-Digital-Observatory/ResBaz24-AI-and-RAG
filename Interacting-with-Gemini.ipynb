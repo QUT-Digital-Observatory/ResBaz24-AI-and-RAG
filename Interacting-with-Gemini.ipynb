{
 "cells": [
  {
   "cell_type": "markdown",
   "id": "9aee620dd3cec78",
   "metadata": {},
   "source": [
    "# Interacting with AI"
   ]
  },
  {
   "cell_type": "markdown",
   "id": "785eadafbd04310f",
   "metadata": {},
   "source": [
    "### Getting started\n",
    "\n",
    "This workbook requires a Google Gemini API key:\n",
    "- Google provide Gemini with a free tier available to anyone with a Google account.\n",
    "- To get your own key visit [aistudio.google.com/app/apikey](https://aistudio.google.com/app/apikey) and click \"Create API key\"\n",
    "\n",
    "This API key needs to be saved to your project's .env file. Open your .env and add *GEMINI_API_KEY=\"MY-API-KEY-HERE\"* or run\n",
    "```\n",
    "# Linux\n",
    "echo 'GEMINI_API_KEY=\"MY-API-KEY-HERE\"' >> .env\n",
    "\n",
    "# Windows\n",
    "echo GEMINI_API_KEY=\"MY-API-KEY-HERE\"> .env\n",
    "```\n",
    "\n",
    "This workbook also requires the Gemini python module, google-generativeai"
   ]
  },
  {
   "cell_type": "markdown",
   "id": "e0422074e1524491",
   "metadata": {},
   "source": [
    "#### Setting up Gemini"
   ]
  },
  {
   "cell_type": "code",
   "id": "79f0608c695b7b25",
   "metadata": {},
   "source": [
    "import os\n",
    "\n",
    "import google.generativeai as genai\n",
    "from dotenv import load_dotenv"
   ],
   "outputs": [],
   "execution_count": null
  },
  {
   "cell_type": "code",
   "id": "initial_id",
   "metadata": {
    "collapsed": true
   },
   "source": [
    "load_dotenv()\n",
    "genai.configure(api_key=os.environ[\"GEMINI_API_KEY\"])\n",
    "model = genai.GenerativeModel('gemini-1.5-flash')"
   ],
   "outputs": [],
   "execution_count": null
  },
  {
   "cell_type": "markdown",
   "id": "66f5f3217846cfc9",
   "metadata": {},
   "source": [
    "#### Running basic queries"
   ]
  },
  {
   "cell_type": "code",
   "id": "e5008cecec9fb5c9",
   "metadata": {},
   "source": "response = model.generate_content(\"What do twitter users think about their data being used for research?\")",
   "outputs": [],
   "execution_count": null
  },
  {
   "cell_type": "code",
   "id": "b50574f335918fdb",
   "metadata": {},
   "source": [
    "print(response.text)"
   ],
   "outputs": [],
   "execution_count": null
  },
  {
   "cell_type": "markdown",
   "id": "403c43d0c21ed30f",
   "metadata": {},
   "source": []
  }
 ],
 "metadata": {
  "kernelspec": {
   "display_name": "Python 3 (ipykernel)",
   "language": "python",
   "name": "python3"
  },
  "language_info": {
   "codemirror_mode": {
    "name": "ipython",
    "version": 3
   },
   "file_extension": ".py",
   "mimetype": "text/x-python",
   "name": "python",
   "nbconvert_exporter": "python",
   "pygments_lexer": "ipython3",
   "version": "3.11.5"
  }
 },
 "nbformat": 4,
 "nbformat_minor": 5
}
